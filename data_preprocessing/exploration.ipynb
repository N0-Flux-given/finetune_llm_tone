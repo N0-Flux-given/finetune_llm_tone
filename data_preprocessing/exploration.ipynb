{
 "cells": [
  {
   "cell_type": "code",
   "execution_count": 22,
   "id": "a229b752",
   "metadata": {},
   "outputs": [],
   "source": [
    "import re\n",
    "import os\n",
    "import spacy\n",
    "import requests\n",
    "import json\n",
    "from tqdm import tqdm\n",
    "\n",
    "RAW_DATA_PATH = \"D:/python/llm_finetune/data/moist_critical_raw_captions/\"\n",
    "PROCESSED_DATA_PATH = \"D:/python/llm_finetune/data/processed_captions/\"\n",
    "nlp = spacy.load(\"en_core_web_sm\")"
   ]
  },
  {
   "cell_type": "code",
   "execution_count": 14,
   "id": "4caf6fd0",
   "metadata": {},
   "outputs": [
    {
     "data": {
      "text/plain": [
       "[\" All right, you win.  I'll roll over and\\nshow you my belly.  I submit.  My arm has\\nbeen getting twisted by tons of people\\ndemanding that I speak about the Sydney\\nSweeney bathwater soap.  Apparently, it\\nsold out in seconds.  It's uh taken taken\\nthe world by storm as the utmost\\nauthority on both bathwater and soap.\\n \",\n",
       " \" People are turning to my expert analysis\\nhere to weigh in on this subject.\\n  Obviously, I have my own soap, Cheeky,\\nwhich is far better than this horse\\nhockey.  Cheeky is the best soap in the\\nuniverse that we've made.  But don't just\\ntake my word for it.  Go to usech\\ncheeky.com right now and get some soap\\nfor yourself to try it out. \",\n",
       " \" It'll change\\nyour life for the better.  This topic\\nisn't meant to just be a vessel to glaze\\ncheeky.  It's just because I have that so\\nmany people keep emailing about this\\nSydney Sweeney stuff, so I had to\\nmention it.  It's become extremely clear\\nthat Sydney Sweeney has teamed up with\\nthese schmucks over there at Dr. Squatch\\njust for this big marketing campaign\\nhere.  Now, I think had she known about\\nCheeky, we're kind of new to the scene,\\nbut had she known about us, she would\\nhave been sprinting over here bearing\\nbathwater, begging to be part of the\\nsquad, part of the crew, part of the\\nship, and we would have embraced that\\nwith open arms. \",\n",
       " \" And I'm not here saying\\nthat we're shutting the door in her face\\nbecause I'm sure she's going to make the\\ncorrect decision and be on the right\\nside of soap history eventually.  Uh but\\nfor now, she's with Dr. Squatch for\\nthese soap bars and she's kind of like\\nthe spokesperson for them at the moment.\\n  So anyway, this has clearly been a very\\nsuccessful marketing campaign with the\\nwhole Sydney Sweeney bath water infused\\nsoap bars.  Allegedly, it uses some of\\nher actual bath water and sprinkles it\\ninto each bar and it's medium grit.  So,\\nthe idea is you'll have like those\\nlittle speckles in there that you'll\\nwash yourself with or worship. \",\n",
       " \" Hey Arnold bubblegum\\ntribute to Sydney Sweeney in your closet\\nor whatever.  This is obviously heavily\\ninfluenced, I'm going to use that word,\\nreal loosey goosey here, by one of the\\ngoats of Gooning, Bel Deline's stunts\\nfrom back in 2019 when she sold her bath\\nwater in jars.  Now, Bel Deline was a\\npioneer in the industry.  If eg girls\\nwere athletes, then she's fucking Babe\\nRuth.  She was the great bambino. \",\n",
       " ' She\\nwrote the book on how to hose gooners\\nfor their piggy banks.  She is like the\\nJohn Madden when it comes to these\\nplays.  And now Sydney Sweeney basically\\njust ripped a page out of that book and\\ntried to replicate that success and\\nsucceeded at replicating it.  The\\nbathwater soap bars are apparently\\nselling extremely well.  So well in fact\\nthat there is a secondary market for it\\non eBay as there always is for\\neverything ever from these fucking people\\nscalping Sydney Sweeney bath water here\\nwhere they are reselling the soap bars\\nfor over $200 a piece. ',\n",
       " \" 200 clams for\\nthis this bathwater soap.  And not only\\nthat, there are people shamelessly\\nselling pictures of it for $30.  I'm just\\ngoing to say this right now.  If you are\\none of these pathetic souls that spends\\n$30 buying a picture of Sydney Sweeny's\\nBathwater soap bar, you need to be\\ninstitutionalized right now for your own\\ngood.  You have got to go straight to\\nArkham Asylum. \",\n",
       " \" Holy shit That would be\\nthe saddest existence on this planet.  If\\nyou go to eBay and spend 30 dealloons on\\na fucking picture of Sydney Sweeny's\\nbathwater soap, that is the lowest you\\ncan ever sink as a human being.  Maybe\\nyou can honestly look at this as\\nsomething inspirational.  No matter how\\nbad you feel about yourself or whatever\\nyou're going through, maybe your\\nself-esteemes in the shitter just know\\nyou are not as pitiful and worthless as\\nthe people that are going to spend $30\\non a picture of Sydney Sweeny's\\nbathwater soap bar and that should\\nuplift your spirits on the spot.\\n  Interestingly enough, Sydney Sweeney\\nclaims that this was actually her idea\\nto use her actual bath water in the soap\\nbars. \",\n",
       " ' She said, \"I think it\\'s more fun\\nto see everyone else talk about it.  I\\npitched it.  You kept asking about my\\nbath water after the Dr. Squatch ad, so\\nwe kept it.\"  So, she is claiming that\\nthis was her brainchild here with these\\nsoap bars.  And I was a little\\ndisappointed to see that she didn\\'t give\\ncredit to Belle Belelfine. ',\n",
       " \" I feel like\\nthere is no way this is just a big old\\nkinky dink.  I don't think that it's, you\\nknow, just pure happen stance that she\\nis also using bath water for the soap.  I\\nfeel like she must have at least heard\\nabout the Belelfine bath water because\\nthat has become ingrained in like\\ninternet culture as part of like you\\nknow the epitome of gooning like when\\nyou reach terminal gooner like you know\\nmelted core defcon one goon status that\\nhas always been propped up.  I feel like\\nshe must have heard about that or maybe\\nsomeone at Dr. Squatch may have even\\nlike mentioned it in passing and she\\nthought it was a cool idea.  I just find\\nit a little hard to believe that it had\\nnothing to do with the the path Beline\\nblazed the the trailblaze that she made\\nback in 2019. \",\n",
       " ' But I do think it is\\npossible cuz her ad she was in a\\nbathtub.  So maybe she\\'s like, \"Oh, this\\nwould be kind of silly to take this bath\\nwater and put it in the soap bars to\\nmarket it to people that are like\\ndesperately salivating over me.\"  It\\'s\\npossible, but I do think it\\'s unlikely.\\n  I want to briefly compare this bathwater\\nsoap to Bel Deli\\'s biological weapon\\nfrom back in the day.  So, with the soap,\\nI obviously don\\'t have it on hand. ',\n",
       " \" I\\ndidn't purchase any.  I didn't attempt to\\nor anything like that, but just having\\nsoap that has bath water apparently in\\nit.  They claim that it's there.  There's\\nof course no scientific way of proving\\nthat whatever bathwater presence there\\nwas actually graced by Sydney Sweeny's\\nass or anything like that, but taking\\nthem at their word, you're getting a bar\\nof soap with that in it.  So, I'm\\nassuming that it's going to still be\\nlike functional as a bar of soap.\\n \",\n",
       " \" Belffine's bath water was concentrated\\nbathwater extract in a jar.  So, you\\ncouldn't really do anything with it\\nbesides just appreciate it for the\\nsafety hazard it was.  I guess if you\\nwere brave enough, you could chug it.\\n  Like, you could drink it and give\\nyourself E. coli if you really wanted\\nto.  But once again, there was never any\\nlike hard concrete way of proving that\\nwhat you got shipped even back then was\\nactually Bel\\nBelli's, you know, fucking water, you\\nknow, and you can't do that here either.\\n \",\n",
       " \" Though I do remember from back in 2019,\\nif I remember correctly, she had like\\nfilmed herself bathing with the water\\nand jarring it.  I don't think the same\\nwas done here for the the soap bars from\\nSydney Sweeney.  I don't know if you get\\nlike a certificate of authenticity with\\nevery bar, as well as proof where she\\nhas like a video of her in lab goggles\\nand a syringe extracting the bath water\\nand then using it in the soponification\\nprocess for the bar making.  Couldn't\\ntell you.  All I know is that the\\nproducts bear very similar DNA. \",\n",
       " \" Whereas\\nBel Deli was more expensive, you\\nprobably got more bang for your\\nbathwater buck.  In this case, you get\\nlike microscopic amounts of Sydney\\nSweeny's bathwater allegedly.  So, you\\nknow, I'm not here to try and sell you\\none way or the other on Belffine's\\nancient bathwater brew versus, you know,\\nthe the most recent one with Sydney\\nSweeney.  I was just, you know, giving\\nyou my perspective as someone who's seen\\nboth of these unfold in real time.\\n  Something I found interesting though is\\njust how closely history repeats itself.\\n \",\n",
       " \" When Bel Deline did this back in 2019,\\nit was very controversial.  It led to a\\nhuge conversation where everyone was\\nlike debating and like furious about the\\nwhole thing, like getting mad.  And now\\nthat Sydney Sweeney is doing it with the\\nsoap here, even more people are like\\nupset about it.  And it's apparently very\\ncontroversial because now she's like an\\nactual actress.  She's like a full-blown\\ncelebrity whereas Belfine was more of\\nlike the egirl celeb. \",\n",
       " \" So is a little\\nmore niche.  Sydney Sweeney opens this\\nGoonar degeneracy, you know, Pandora's\\nbox to a lot more people that were maybe\\npreviously unaware.  So this has become\\neven more controversial than the Bel\\nDeline bath water, which I found really\\ninteresting because I thought a lot of\\npeople would look at this and just kind\\nof write it off as like been there, done\\nthat, kind of lame.  and the novelties\\nworn off.  I was very wrong with that\\nassumption. \",\n",
       " \" That is not what's happened\\nat all.  It is once again blown up like\\nin a pretty big way.  Like not to, you\\nknow, front front page headlines or\\nanything, but since she has so many fans\\nas a full-blown A-list celebrity, a lot\\nof people are like expressing\\ndisappointment in her for doing this and\\nstooping so low as opposed to just\\nviewing it as like a light-hearted silly\\nthing or like a joke.  I don't know.  I\\njust found that kind of interesting cuz\\nI didn't expect it to be like a big deal\\nfor her. \",\n",
       " \" I highly doubt this does any\\ndamage to her brand or anything.  I don't\\nthink she's going to lose roles over\\ndoing something like this like a lot of\\npeople are claiming that she just threw\\naway her whole reputation with this.  I\\nthink that is severely exaggerated.  I'm\\nsure her career will be just fine after\\nthe the bathwater soap.  I I just found\\nit fascinating how this was once again a\\nbig deal. \"]"
      ]
     },
     "execution_count": 14,
     "metadata": {},
     "output_type": "execute_result"
    }
   ],
   "source": [
    "paragraphs = []\n",
    "for raw_file in os.listdir(RAW_DATA_PATH):\n",
    "    file_path = os.path.join(RAW_DATA_PATH, raw_file)\n",
    "    with open(file_path, \"r\", encoding=\"utf-8\") as f:\n",
    "        raw_text = f.read()\n",
    "\n",
    "    doc = nlp(raw_text)\n",
    "    sentences = [sent.text for sent in doc.sents]\n",
    "\n",
    "    sent_counter = 0\n",
    "    paragraph = \"\"\n",
    "    for sentence in sentences:\n",
    "        paragraph += f\" {sentence} \"\n",
    "        if sent_counter >= 5:\n",
    "            paragraphs.append(paragraph)\n",
    "            paragraph = \"\"\n",
    "            sent_counter = 0\n",
    "\n",
    "        sent_counter += 1\n",
    "\n",
    "    break\n",
    "\n",
    "paragraphs"
   ]
  },
  {
   "cell_type": "code",
   "execution_count": 11,
   "id": "983e5b78",
   "metadata": {},
   "outputs": [],
   "source": [
    "def summarize_paragraph(model, paragraph, instruction):\n",
    "\n",
    "    prompt = f\"Instruction: {instruction}\\nInput: {paragraph}\\nOutput:\"\n",
    "    response = requests.post(\n",
    "        \"http://localhost:11434/api/generate\",\n",
    "        json={\n",
    "            \"model\": model,\n",
    "            \"prompt\": prompt,\n",
    "        },\n",
    "        stream=True,\n",
    "    )\n",
    "    output_text = \"\"\n",
    "    for line in response.iter_lines():\n",
    "        if line:\n",
    "            data = json.loads(line)\n",
    "            output_text += data.get(\"response\", \"\")\n",
    "    return prompt, output_text"
   ]
  },
  {
   "cell_type": "code",
   "execution_count": 27,
   "id": "bb4759be",
   "metadata": {},
   "outputs": [
    {
     "name": "stderr",
     "output_type": "stream",
     "text": [
      "100%|██████████| 19/19 [07:23<00:00, 23.36s/it]\n"
     ]
    }
   ],
   "source": [
    "instruction = \"Remove the author's tone and rewrite the sentence in a simple, factual way like it was in a Wikipedia article. Do not explain your reasoning. Output only the final rewritten text\"\n",
    "\n",
    "# models = [\"gemma3:4b\", \"llama3.2:latest\", \"phi:latest\"]\n",
    "models = [\"deepseek-r1:14b\"]\n",
    "\n",
    "for model in models:\n",
    "    model_clean_name = model.replace(\":\", \"-\")\n",
    "    results_list = []\n",
    "    for paragraph in tqdm(paragraphs):\n",
    "        prompt, output_text = summarize_paragraph(\n",
    "            model=model, paragraph=paragraph, instruction=instruction\n",
    "        )\n",
    "\n",
    "        resultant_dict = {\n",
    "            \"instruction\": instruction,\n",
    "            \"input\": paragraph,\n",
    "            \"output\": output_text,\n",
    "        }\n",
    "        results_list.append(resultant_dict)\n",
    "\n",
    "    if not os.path.exists(os.path.join(PROCESSED_DATA_PATH, model)):\n",
    "        os.mkdir(os.path.join(PROCESSED_DATA_PATH, model_clean_name))\n",
    "\n",
    "        with open(\n",
    "            os.path.join(\n",
    "                PROCESSED_DATA_PATH,\n",
    "                model_clean_name,\n",
    "                f\"{model_clean_name}_summary.json\",\n",
    "            ),\n",
    "            \"w\",\n",
    "        ) as f:\n",
    "            json.dump(results_list, f, indent=4)"
   ]
  },
  {
   "cell_type": "code",
   "execution_count": null,
   "id": "3d45b8e0",
   "metadata": {},
   "outputs": [],
   "source": []
  }
 ],
 "metadata": {
  "kernelspec": {
   "display_name": "tune",
   "language": "python",
   "name": "python3"
  },
  "language_info": {
   "codemirror_mode": {
    "name": "ipython",
    "version": 3
   },
   "file_extension": ".py",
   "mimetype": "text/x-python",
   "name": "python",
   "nbconvert_exporter": "python",
   "pygments_lexer": "ipython3",
   "version": "3.12.6"
  }
 },
 "nbformat": 4,
 "nbformat_minor": 5
}
