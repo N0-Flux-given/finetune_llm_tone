{
 "cells": [
  {
   "cell_type": "code",
   "execution_count": null,
   "id": "a229b752",
   "metadata": {},
   "outputs": [
    {
     "name": "stderr",
     "output_type": "stream",
     "text": [
      "<>:4: SyntaxWarning: invalid escape sequence '\\p'\n",
      "<>:4: SyntaxWarning: invalid escape sequence '\\p'\n",
      "C:\\Users\\Ikpreet\\AppData\\Local\\Temp\\ipykernel_4040\\4026994896.py:4: SyntaxWarning: invalid escape sequence '\\p'\n",
      "  raw_data = \"D:\\python\\llm_finetune\\data\\mark_felton_raw_captions\"\n"
     ]
    }
   ],
   "source": [
    "import re\n",
    "import os\n",
    "\n",
    "raw_data_path = \"D:\\python\\llm_finetune\\data\\mark_felton_raw_captions\""
   ]
  },
  {
   "cell_type": "code",
   "execution_count": null,
   "id": "24b006ee",
   "metadata": {},
   "outputs": [],
   "source": [
    "def split_into_paragraphs(text, sentences_per_paragraph=3):\n",
    "    # Split text into sentences\n",
    "    sentences = re.split(r\"(?<=[.!?]) +\", text)\n",
    "    paragraphs = []\n",
    "    for i in range(0, len(sentences), sentences_per_paragraph):\n",
    "        paragraph = \" \".join(sentences[i : i + sentences_per_paragraph]).strip()\n",
    "        paragraphs.append(paragraph)\n",
    "    return paragraphs\n",
    "\n",
    "\n",
    "# Load from file\n",
    "with open(\"my_text.txt\", \"r\", encoding=\"utf-8\") as f:\n",
    "    raw_text = f.read()\n",
    "\n",
    "paragraphs = split_into_paragraphs(raw_text, sentences_per_paragraph=4)\n",
    "\n",
    "for p in paragraphs:\n",
    "    print(f\"---\\n{p}\\n\")"
   ]
  },
  {
   "cell_type": "code",
   "execution_count": null,
   "id": "4caf6fd0",
   "metadata": {},
   "outputs": [],
   "source": [
    "for raw_file in os.listdir(raw_data_path):\n",
    "    file_path = os.path.join(raw_data_path, raw_file)\n",
    "    with open(file_path, 'r', encoding='utf-8') as f:\n",
    "        "
   ]
  }
 ],
 "metadata": {
  "kernelspec": {
   "display_name": "tune",
   "language": "python",
   "name": "python3"
  },
  "language_info": {
   "codemirror_mode": {
    "name": "ipython",
    "version": 3
   },
   "file_extension": ".py",
   "mimetype": "text/x-python",
   "name": "python",
   "nbconvert_exporter": "python",
   "pygments_lexer": "ipython3",
   "version": "3.12.6"
  }
 },
 "nbformat": 4,
 "nbformat_minor": 5
}
